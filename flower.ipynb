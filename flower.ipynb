{
 "cells": [
  {
   "cell_type": "code",
   "execution_count": null,
   "metadata": {
    "collapsed": true
   },
   "outputs": [],
   "source": [
    "# code by RAJU\n",
    "import turtle\n",
    "\n",
    "window = turtle.Screen()\n",
    "window.bgcolor(\"white\")\n",
    "\n",
    "abc =turtle.Turtle()\n",
    "abc.shape(\"classic\")\n",
    "abc.color(\"black\")\n",
    "abc.speed(1)\n",
    "\n",
    "for i in range(1,37):  \n",
    "    abc.left(35)\n",
    "    abc.forward(50)\n",
    "    abc.right(35)\n",
    "    abc.forward(50)\n",
    "    abc.right(145)\n",
    "    abc.forward(50)\n",
    "    abc.right(35)\n",
    "    abc.forward(50)\n",
    "    abc.right(10)\n",
    "abc.seth(270)\n",
    "abc.forward(200)\n",
    "        \n",
    "\n",
    "window.exitonclick()"
   ]
  },
  {
   "cell_type": "code",
   "execution_count": null,
   "metadata": {
    "collapsed": true
   },
   "outputs": [],
   "source": []
  }
 ],
 "metadata": {
  "kernelspec": {
   "display_name": "Python 2",
   "language": "python",
   "name": "python2"
  },
  "language_info": {
   "codemirror_mode": {
    "name": "ipython",
    "version": 2
   },
   "file_extension": ".py",
   "mimetype": "text/x-python",
   "name": "python",
   "nbconvert_exporter": "python",
   "pygments_lexer": "ipython2",
   "version": "2.7.13"
  }
 },
 "nbformat": 4,
 "nbformat_minor": 2
}
