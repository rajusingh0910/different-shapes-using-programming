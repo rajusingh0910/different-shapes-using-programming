{
 "cells": [
  {
   "cell_type": "code",
   "execution_count": null,
   "metadata": {
    "collapsed": true
   },
   "outputs": [],
   "source": [
    "import turtle\n",
    "\n",
    "def draw_square(some_turtle):\n",
    "    for i in range(1,5):\n",
    "        some_turtle.forward(100)\n",
    "        some_turtle.right(90)\n",
    "\n",
    "def draw_hexagon(some_turtle2):\n",
    "    for i in range(1,7):\n",
    "        some_turtle2.forward(100)\n",
    "        some_turtle2.right(60)\n",
    "        \n",
    "\n",
    "        \n",
    "def draw_art():\n",
    "    window = turtle.Screen()\n",
    "    window.bgcolor(\"red\")\n",
    "    #creat raju as square\n",
    "    raju= turtle.Turtle()\n",
    "    raju.shape(\"square\")\n",
    "    raju.color(\"blue\")\n",
    "    raju.speed(2)\n",
    "    draw_square(raju)\n",
    "    # creat raj as circle\n",
    "    raj= turtle.Turtle()\n",
    "    raj.shape(\"circle\")\n",
    "    raj.color(\"green\")\n",
    "    raj.speed(2)\n",
    "    raj.circle(100)\n",
    "    #creat ra as hexagon\n",
    "    ra= turtle.Turtle()\n",
    "    ra.shape(\"turtle\")\n",
    "    ra.color(\"yellow\")\n",
    "    ra.speed(2)\n",
    "    draw_hexagon(ra)\n",
    "    \n",
    "    window.exitonclick()\n",
    "\n",
    "draw_art()"
   ]
  }
 ],
 "metadata": {
  "kernelspec": {
   "display_name": "Python 2",
   "language": "python",
   "name": "python2"
  },
  "language_info": {
   "codemirror_mode": {
    "name": "ipython",
    "version": 2
   },
   "file_extension": ".py",
   "mimetype": "text/x-python",
   "name": "python",
   "nbconvert_exporter": "python",
   "pygments_lexer": "ipython2",
   "version": "2.7.13"
  }
 },
 "nbformat": 4,
 "nbformat_minor": 2
}
